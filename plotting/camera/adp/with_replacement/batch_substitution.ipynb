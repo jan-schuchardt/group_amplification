{
 "cells": [
  {
   "cell_type": "code",
   "execution_count": 1,
   "metadata": {},
   "outputs": [],
   "source": [
    "from typing import Sequence\n",
    "\n",
    "import numpy as np\n",
    "from numpy.typing import NDArray\n",
    "\n",
    "from group_amplification.privacy_analysis.base_mechanisms import BaseMechanism, GaussianMechanism\n",
    "from group_amplification.privacy_analysis.composition.pld.accounting import pld_from_double_mixture_gaussian_mechanism\n",
    "from group_amplification.privacy_analysis.utils import log_binomial_coefficient\n",
    "\n",
    "import matplotlib.pyplot as plt"
   ]
  },
  {
   "cell_type": "code",
   "execution_count": 2,
   "metadata": {},
   "outputs": [],
   "source": [
    "def wor_pmf(k: NDArray[np.int64],\n",
    "            dataset_size: int,\n",
    "            batch_size: int) -> NDArray[np.int64]:\n",
    "\n",
    "    log_pmf = k * np.log(1 / dataset_size)\n",
    "    log_pmf += (batch_size - k) * np.log(1 - 1 / dataset_size)\n",
    "    log_pmf += log_binomial_coefficient(batch_size, k)\n",
    "\n",
    "    return np.exp(log_pmf)"
   ]
  },
  {
   "cell_type": "code",
   "execution_count": 3,
   "metadata": {},
   "outputs": [],
   "source": [
    "def pld_wor(epsilons: Sequence[float],\n",
    "            base_mechanism: BaseMechanism,\n",
    "            dataset_size: int,\n",
    "            batch_size: int,\n",
    "            eval_params: dict[str]):\n",
    "\n",
    "    sensitivities_upper = np.arange(batch_size + 1)\n",
    "    sampling_probs_upper = wor_pmf(sensitivities_upper, dataset_size, batch_size)\n",
    "\n",
    "    sensitivities_lower = sensitivities_upper.copy()\n",
    "    sampling_probs_lower = sampling_probs_upper.copy()\n",
    "\n",
    "    pld = pld_from_double_mixture_gaussian_mechanism(\n",
    "                base_mechanism.standard_deviation,\n",
    "                sensitivities_upper, sensitivities_lower,\n",
    "                sampling_probs_upper, sampling_probs_lower,\n",
    "                **eval_params\n",
    "            )\n",
    "\n",
    "    return pld.get_delta_for_epsilon(epsilons)"
   ]
  },
  {
   "cell_type": "code",
   "execution_count": 4,
   "metadata": {},
   "outputs": [],
   "source": [
    "def adp_wor(eps: int, base_mechanism: BaseMechanism,\n",
    "            dataset_size: int, batch_size: int) -> float:\n",
    "\n",
    "\n",
    "    w = wor_pmf(np.arange(1, batch_size + 1), dataset_size, batch_size)\n",
    "    p_not_zero = 1 - wor_pmf(0, dataset_size, batch_size)\n",
    "    w /= p_not_zero\n",
    "\n",
    "    sensitivities = np.arange(1, batch_size + 1)\n",
    "    # See Proof of Proposition 30 in Characteristic Function Accounting paper\n",
    "    individual_alpha = 1 + (np.exp(eps) - 1) / p_not_zero\n",
    "    individual_alphas = np.full_like(sensitivities, individual_alpha, dtype='float')\n",
    "\n",
    "    if isinstance(base_mechanism, GaussianMechanism):\n",
    "        adps = base_mechanism.adp(individual_alphas, sensitivities)\n",
    "\n",
    "    else:\n",
    "        raise ValueError('Only support Gaussian Mechanisms')\n",
    "\n",
    "    return p_not_zero * w @ adps"
   ]
  },
  {
   "cell_type": "code",
   "execution_count": 5,
   "metadata": {},
   "outputs": [],
   "source": [
    "epsilons = np.logspace(0, 1, 121)\n",
    "\n",
    "standard_deviation = 1.0\n",
    "base_mechanism = GaussianMechanism(standard_deviation)\n",
    "\n",
    "dataset_size = 100\n",
    "batch_size = 8\n",
    "eval_params = {'value_discretization_interval': 1e-2}"
   ]
  },
  {
   "cell_type": "code",
   "execution_count": 6,
   "metadata": {},
   "outputs": [],
   "source": [
    "deltas_pld = pld_wor(epsilons, base_mechanism,\n",
    "                     dataset_size, batch_size,\n",
    "                     eval_params)"
   ]
  },
  {
   "cell_type": "code",
   "execution_count": 7,
   "metadata": {},
   "outputs": [],
   "source": [
    "deltas_adp = np.array([\n",
    "    adp_wor(eps, base_mechanism,\n",
    "            dataset_size, batch_size)\n",
    "    for eps in epsilons]\n",
    ")"
   ]
  },
  {
   "cell_type": "markdown",
   "metadata": {},
   "source": [
    "### Plot the stuff"
   ]
  },
  {
   "cell_type": "code",
   "execution_count": 8,
   "metadata": {},
   "outputs": [],
   "source": [
    "import seaborn as sns"
   ]
  },
  {
   "cell_type": "code",
   "execution_count": 9,
   "metadata": {},
   "outputs": [],
   "source": [
    "save_dir = '/ceph/hdd/staff/schuchaj/group_amplification_plots/neurips24/adp/with_replacement/specific_vs_agnostic/gaussian/half_page'"
   ]
  },
  {
   "cell_type": "code",
   "execution_count": 10,
   "metadata": {},
   "outputs": [],
   "source": [
    "sns.set_theme()\n",
    "\n",
    "fig, ax = plt.subplots()\n",
    "\n",
    "pal = sns.color_palette('colorblind', 2)\n",
    "\n",
    "ax.plot(epsilons, deltas_adp,  c=pal[0], label='Agnostic', linestyle='dashed')\n",
    "ax.plot(epsilons, deltas_pld, c=pal[1], label='Specific')\n",
    "\n",
    "ax.plot()\n",
    "\n",
    "ax.set_ylabel('ADP $\\delta(\\\\varepsilon)$', fontsize=9)\n",
    "ax.set_xlabel('ADP $\\\\varepsilon$', fontsize=9)\n",
    "\n",
    "ax.set_yscale('log')\n",
    "ax.set_xscale('log')\n",
    "\n",
    "ax.legend(loc='lower left')\n"
   ]
  },
  {
   "cell_type": "code",
   "execution_count": null,
   "metadata": {},
   "outputs": [],
   "source": []
  }
 ],
 "metadata": {
  "kernelspec": {
   "display_name": "group_amplification",
   "language": "python",
   "name": "python3"
  },
  "language_info": {
   "codemirror_mode": {
    "name": "ipython",
    "version": 3
   },
   "file_extension": ".py",
   "mimetype": "text/x-python",
   "name": "python",
   "nbconvert_exporter": "python",
   "pygments_lexer": "ipython3",
   "version": "3.11.7"
  }
 },
 "nbformat": 4,
 "nbformat_minor": 2
}
